{
 "cells": [
  {
   "cell_type": "code",
   "execution_count": null,
   "metadata": {
    "cellView": "both",
    "id": "D1J15Vh_1Jih"
   },
   "outputs": [],
   "source": [
    "import tensorflow as tf\n",
    "if tf.__version__ != \"2.14.0\":\n",
    "    print(f\"Current TensorFlow version: {tf.__version__}, switching to 2.14.0\")\n",
    "    \n",
    "    # Uninstall current TensorFlow version\n",
    "    !pip uninstall -y tensorflow\n",
    "    \n",
    "    # Install TensorFlow 2.10\n",
    "    !pip install tensorflow==2.14.0\n",
    "    \n",
    "    # After installation, restart runtime\n",
    "    print(\"TensorFlow 2.14.0 installed.\")\n",
    "    print(\"Please click on the Runtime > Restart session and run all.\")\n",
    "else:\n",
    "    print(\"TensorFlow 2.14.0 is already installed.\")"
   ]
  },
  {
   "cell_type": "code",
   "execution_count": null,
   "metadata": {
    "id": "O6k2Pg0gTYB8"
   },
   "outputs": [],
   "source": [
    "import tensorflow as tf\n",
    "import numpy as np\n",
    "from tensorflow.keras import Sequential\n",
    "from tensorflow.keras.layers import Dense"
   ]
  },
  {
   "cell_type": "code",
   "execution_count": null,
   "metadata": {
    "id": "YAwdHf6ySQGt"
   },
   "outputs": [],
   "source": [
    "l0 = Dense(units=1, input_shape=[1])\n",
    "model = Sequential([l0])\n",
    "model.compile(optimizer='sgd', loss='mean_squared_error')\n",
    "\n",
    "xs = np.array([-1.0, 0.0, 1.0, 2.0, 3.0, 4.0], dtype=float)\n",
    "ys = np.array([-3.0, -1.0, 1.0, 3.0, 5.0, 7.0], dtype=float)\n",
    "\n",
    "model.fit(xs, ys, epochs=500)\n",
    "\n",
    "print(model.predict(np.array([10.0])))\n",
    "print(\"Here is what I learned: {}\".format(l0.get_weights()))"
   ]
  },
  {
   "cell_type": "code",
   "execution_count": null,
   "metadata": {
    "id": "SOs_IDM6ToaM"
   },
   "outputs": [],
   "source": [
    "export_dir = 'saved_model/1'\n",
    "tf.saved_model.save(model, export_dir)"
   ]
  },
  {
   "cell_type": "code",
   "execution_count": null,
   "metadata": {
    "id": "lWSlkprhTsWE"
   },
   "outputs": [],
   "source": [
    "# Convert the model.\n",
    "converter = tf.lite.TFLiteConverter.from_saved_model(export_dir)\n",
    "tflite_model = converter.convert()"
   ]
  },
  {
   "cell_type": "code",
   "execution_count": null,
   "metadata": {
    "id": "lsaEjJfrTujk"
   },
   "outputs": [],
   "source": [
    "import pathlib\n",
    "tflite_model_file = pathlib.Path('model.tflite')\n",
    "tflite_model_file.write_bytes(tflite_model)"
   ]
  },
  {
   "cell_type": "code",
   "execution_count": null,
   "metadata": {
    "id": "fseX4pkhTzS0"
   },
   "outputs": [],
   "source": [
    "# Load TFLite model and allocate tensors.\n",
    "interpreter = tf.lite.Interpreter(model_content=tflite_model)\n",
    "interpreter.allocate_tensors()\n",
    "\n",
    "# Get input and output tensors.\n",
    "input_details = interpreter.get_input_details()\n",
    "output_details = interpreter.get_output_details()\n",
    "print(input_details)\n",
    "print(output_details)"
   ]
  },
  {
   "cell_type": "code",
   "execution_count": null,
   "metadata": {
    "id": "k_Ij8_BvU0KV"
   },
   "outputs": [],
   "source": [
    "to_predict = np.array([[10.0]], dtype=np.float32)\n",
    "print(to_predict)\n",
    "interpreter.set_tensor(input_details[0]['index'], to_predict)\n",
    "interpreter.invoke()\n",
    "tflite_results = interpreter.get_tensor(output_details[0]['index'])\n",
    "print(tflite_results)"
   ]
  }
 ],
 "metadata": {
  "colab": {
   "name": "3_3_4_Colab.ipynb",
   "provenance": []
  },
  "kernelspec": {
   "display_name": "Python 3",
   "name": "python3"
  }
 },
 "nbformat": 4,
 "nbformat_minor": 0
}
